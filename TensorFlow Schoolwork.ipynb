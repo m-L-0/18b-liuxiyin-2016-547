{
 "cells": [
  {
   "cell_type": "code",
   "execution_count": 40,
   "metadata": {},
   "outputs": [
    {
     "name": "stdout",
     "output_type": "stream",
     "text": [
      "1 的正确率\n",
      "1.0\n",
      "2 的正确率\n",
      "1.0\n",
      "3 的正确率\n",
      "1.0\n",
      "4 的正确率\n",
      "1.0\n",
      "5 的正确率\n",
      "1.0\n",
      "6 的正确率\n",
      "1.0\n",
      "7 的正确率\n",
      "0.9666666666666667\n",
      "8 的正确率\n",
      "1.0\n",
      "9 的正确率\n",
      "0.9666666666666667\n"
     ]
    },
    {
     "data": {
      "text/plain": [
       "'\\n1 的正确率\\n1.0\\n2 的正确率\\n0.9666666666666667\\n3 的正确率\\n0.9666666666666667\\n4 的正确率\\n1.0\\n5 的正确率\\n0.9666666666666667\\n6 的正确率\\n1.0\\n7 的正确率\\n1.0\\n8 的正确率\\n1.0\\n9 的正确率\\n1.0\\n'"
      ]
     },
     "execution_count": 40,
     "metadata": {},
     "output_type": "execute_result"
    }
   ],
   "source": [
    "import tensorflow as tf\n",
    "import numpy as np\n",
    "from sklearn.datasets import load_iris\n",
    "from sklearn.model_selection import train_test_split\n",
    "\n",
    "iris = load_iris()\n",
    "X_train, X_test, y_train, y_test = train_test_split(iris.data, iris.target, test_size=0.2, random_state=1)\n",
    "\n",
    "#X_train训练集数据, X_test测试集数据, y_train训练集标签, y_test测试集标签\n",
    "xtrain = tf.placeholder(tf.float32,[None,4])\n",
    "xtest = tf.placeholder(tf.float32,[4])\n",
    "init = tf.global_variables_initializer()#变量初始化\n",
    "dist = tf.sqrt(tf.reduce_sum(tf.square(tf.subtract(xtest,xtrain)),1))\n",
    "\n",
    "# 从小到大排序，取前K个最小的\n",
    "    #value,index = tf.nn.top_k(-dist,k=K)\n",
    "   # value = -value\n",
    "#测试单个的测试集\n",
    "with tf.Session() as sess:\n",
    "    k=3#选择的 K 为 3\n",
    "    # 执行时要传入placeholder的值\n",
    "    sess.run(init)\n",
    "    \n",
    "    for k in range(1,10):\n",
    "        acc=0\n",
    "        for i in range(len(X_test)):\n",
    "            L=sess.run(dist, feed_dict = {xtrain:X_train, xtest:X_test[i]})\n",
    "\n",
    "            L = zip(L,range(len(L)))#压缩\n",
    "            L = sorted(L,key=lambda L:L[0])#排序\n",
    "            W=L[:k]  #去前k个\n",
    "            #选最多的作为预测值\n",
    "            a,b,c,p=0,0,0,0\n",
    "            for j in range(k):\n",
    "                if y_train[W[j][1]]==0:\n",
    "                    a+=1\n",
    "                elif y_train[W[j][1]]==1:\n",
    "                    b+=1\n",
    "                elif y_train[W[j][1]]==2:\n",
    "                    c+=1\n",
    "\n",
    "            if a>b and a>c:\n",
    "                d=0\n",
    "            elif b>a and b>c:\n",
    "                d=1\n",
    "            elif c>a and c>b:\n",
    "                d=2\n",
    "\n",
    "            if d==y_test[i]:\n",
    "                acc+=1      #求正确率\n",
    "        print(k,'的正确率')\n",
    "        print(acc/len(y_test))\n",
    "    \n",
    "'''\n",
    "1 的正确率\n",
    "1.0\n",
    "2 的正确率\n",
    "0.9666666666666667\n",
    "3 的正确率\n",
    "0.9666666666666667\n",
    "4 的正确率\n",
    "1.0\n",
    "5 的正确率\n",
    "0.9666666666666667\n",
    "6 的正确率\n",
    "1.0\n",
    "7 的正确率\n",
    "1.0\n",
    "8 的正确率\n",
    "1.0\n",
    "9 的正确率\n",
    "1.0\n",
    "'''\n",
    "#根据结果选择k=7作为k值"
   ]
  }
 ],
 "metadata": {
  "kernelspec": {
   "display_name": "Python 3",
   "language": "python",
   "name": "python3"
  },
  "language_info": {
   "codemirror_mode": {
    "name": "ipython",
    "version": 3
   },
   "file_extension": ".py",
   "mimetype": "text/x-python",
   "name": "python",
   "nbconvert_exporter": "python",
   "pygments_lexer": "ipython3",
   "version": "3.6.2"
  }
 },
 "nbformat": 4,
 "nbformat_minor": 2
}
