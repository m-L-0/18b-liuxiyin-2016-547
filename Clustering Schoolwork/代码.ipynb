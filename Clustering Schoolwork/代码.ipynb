{
 "cells": [
  {
   "cell_type": "code",
   "execution_count": 64,
   "metadata": {},
   "outputs": [
    {
     "name": "stdout",
     "output_type": "stream",
     "text": [
      "正确率: 0.88\n"
     ]
    },
    {
     "data": {
      "image/png": "[encoded data removed]",
      "text/plain": [
       "<matplotlib.figure.Figure at 0x24d525192e8>"
      ]
     },
     "metadata": {},
     "output_type": "display_data"
    }
   ],
   "source": [
    "import numpy as np\n",
    "from sklearn.datasets import load_iris\n",
    "import networkx as nx\n",
    "import matplotlib.pyplot as plt\n",
    "from sklearn.cluster import KMeans\n",
    "from sklearn.manifold import TSNE\n",
    "iris = load_iris()\n",
    "\n",
    "# 距离矩阵W \n",
    "def Distence_matrix(L):\n",
    "    W = np.zeros((len(L),len(L)))\n",
    "    for i in range(len(L)):\n",
    "        for j in range(i,len(L)):\n",
    "            W[i][j] = np.sqrt(np.sum((L[i]-L[j])**2))\n",
    "            W[j][i] = W[i][j]\n",
    "    return W\n",
    "#邻接矩阵\n",
    "def linjie_matrix(W,k,sigma):\n",
    "    N=len(W)\n",
    "    A=np.zeros((N,N))\n",
    "    for i in range(N):\n",
    "        dist_with_index = zip(W[i], range(N))\n",
    "        dist_with_index = sorted(dist_with_index, key=lambda x:x[0])\n",
    "        neighbours_id = [dist_with_index[m][1] for m in range(k+1)]\n",
    "        for j in neighbours_id:\n",
    "            A[j][i] = A[i][j] = np.exp(-W[i][j]/2/sigma/sigma)#高斯核函数\n",
    "            #print(A[i][j])\n",
    "    return A\n",
    "\n",
    "#拉普拉斯矩阵\n",
    "def laplacian_matrix(A):\n",
    "    n1 = np.sum(A,axis=1)\n",
    "    L = np.diag(n1)-A\n",
    "    n2=n1**(0.5)\n",
    "    n3=np.diag(1.0/ n2)\n",
    "    return np.dot(np.dot(n3,L),n3)#f-1/2 * L * f-1/2\n",
    "\n",
    "if __name__ == '__main__':\n",
    "    W = Distence_matrix(iris.data)# 距离矩阵W \n",
    "    A = linjie_matrix(W,6,0.187)#邻接矩阵\n",
    "    L=laplacian_matrix(A)#计算喇布拉斯的特征向量和值并且使用k聚类\n",
    "    \n",
    "    # KMeans 处理\n",
    "    lam, H = np.linalg.eig(L)\n",
    "    lam=np.array(lam,dtype=np.float64)\n",
    "    H=np.array(H,dtype=np.float64)\n",
    "    lam = zip(lam,range(150))#压缩\n",
    "    lam = sorted(lam,key=lambda lam:lam[0])#排序\n",
    "    H = np.vstack([H[:,i] for v,i in lam[:18]]).T#\n",
    "    \n",
    "    model = KMeans(n_clusters=3,n_init=13,random_state=10)\n",
    "    model.fit(H)\n",
    "    result=model.labels_\n",
    "    \n",
    "    #正确率\n",
    "    q=np.array([0,0,0])\n",
    "    for i in result[:50]:\n",
    "        if i==0:\n",
    "            q[0]+=1\n",
    "    for i in result[50:100]:\n",
    "        if i==1:\n",
    "            q[1]+=1\n",
    "    for i in result[100:]:\n",
    "        if i==2:\n",
    "            q[2]+=1\n",
    "    print('正确率:',np.sum(q)/150)\n",
    "    \n",
    "    #画出聚类结果，每一类用一种颜色\n",
    "    X = iris.data\n",
    "    y = iris.target \n",
    "    colors = ['b','g','r']\n",
    "    n_clusters = 3\n",
    "    for i in range(n_clusters):\n",
    "        index = np.nonzero(result==i)[0]\n",
    "        x0 = X[index,0]\n",
    "        x1 = X[index,1]\n",
    "        y_i = y[index]\n",
    "        for j in range(len(x0)):\n",
    "            if j==0:\n",
    "                plt.scatter(x0[j], x1[j], c='r', marker='o')\n",
    "            elif j==1:\n",
    "                plt.scatter(x0[j], x1[j], c='b', marker='D')\n",
    "            else:\n",
    "                plt.scatter(x0[j], x1[j], c='g', marker='v')\n",
    "    plt.axis([3,8,2,5])\n",
    "    plt.show()\n",
    "\n",
    "    "
   ]
  },
  {
   "cell_type": "code",
   "execution_count": null,
   "metadata": {
    "collapsed": true
   },
   "outputs": [],
   "source": [
    "准确率88%的原因：\n",
    "鸢尾花数据集进行kmeans处理时难以处理噪声点\n",
    "\n",
    "缺点：\n",
    "未画出无向图\n",
    "画的散点图中许多点重复，难以观察"
   ]
  }
 ],
 "metadata": {
  "kernelspec": {
   "display_name": "Python 3",
   "language": "python",
   "name": "python3"
  },
  "language_info": {
   "codemirror_mode": {
    "name": "ipython",
    "version": 3
   },
   "file_extension": ".py",
   "mimetype": "text/x-python",
   "name": "python",
   "nbconvert_exporter": "python",
   "pygments_lexer": "ipython3",
   "version": "3.6.3"
  }
 },
 "nbformat": 4,
 "nbformat_minor": 2
}
