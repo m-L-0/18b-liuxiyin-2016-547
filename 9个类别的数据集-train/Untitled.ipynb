{
 "cells": [
  {
   "cell_type": "code",
   "execution_count": 2,
   "metadata": {},
   "outputs": [
    {
     "name": "stdout",
     "output_type": "stream",
     "text": [
      "0.93285198556\n"
     ]
    }
   ],
   "source": [
    "#import spectral\n",
    "from sklearn.model_selection import train_test_split\n",
    "from scipy.io import loadmat\n",
    "import os\n",
    "#from sklearn import tree\n",
    "from sklearn.svm import SVC\n",
    "\n",
    "a=[2,3,5,6,8,10,11,12,14]#标签\n",
    "dx=[]#数据集\n",
    "dy=[[],[],[],[],[],[],[],[],[]]\n",
    "#读取数据\n",
    "path=('./数据集/')\n",
    "files = os.listdir(path)\n",
    "for file in files:#数据集\n",
    "    data = loadmat(path+file)\n",
    "    dx.append(data[file[:-4]])\n",
    "dex=[]\n",
    "dey=[]\n",
    "for i in range(len(dx)):#标签\n",
    "    for j in range(len(dx[i])):\n",
    "        dy[i].append(a[i])\n",
    "      \n",
    "#数据\n",
    "for i in range(len(dx)):\n",
    "    dex.extend(dx[i])\n",
    "    dey.extend(dy[i])\n",
    "#训练集分割\n",
    "xtrain,xtest,ytrain,ytest = train_test_split(dex,dey,test_size=0.2,random_state=3)\n",
    "'''\n",
    "clf = tree.DecisionTreeClassifier()\n",
    "clf = clf.fit(xtrain,ytrain)\n",
    "print(clf.score(xtest,ytest))     0.817328519856\n",
    "'''\n",
    "\n",
    "\n",
    "km = SVC(kernel='poly',degree=4)\n",
    "km = km.fit(xtrain,ytrain)\n",
    "\n",
    "print(km.score(xtest,ytest))#0.93285198556"
   ]
  },
  {
   "cell_type": "code",
   "execution_count": 30,
   "metadata": {},
   "outputs": [
    {
     "name": "stdout",
     "output_type": "stream",
     "text": [
      "2310\n",
      "[ 5 11 10 ...,  6  5 12]\n"
     ]
    }
   ],
   "source": [
    "#导入测试集\n",
    "dt = loadmat('./data_test_final.mat')\n",
    "dt = dt['data_test_final']\n",
    "data_test = []\n",
    "for i in range(len(dt)):\n",
    "    data_test.append(dt[i])\n",
    "#输出预测标签\n",
    "pre = km.predict(data_test)\n",
    "print(pre)"
   ]
  },
  {
   "cell_type": "code",
   "execution_count": null,
   "metadata": {},
   "outputs": [],
   "source": []
  }
 ],
 "metadata": {
  "kernelspec": {
   "display_name": "Python 3",
   "language": "python",
   "name": "python3"
  },
  "language_info": {
   "codemirror_mode": {
    "name": "ipython",
    "version": 3
   },
   "file_extension": ".py",
   "mimetype": "text/x-python",
   "name": "python",
   "nbconvert_exporter": "python",
   "pygments_lexer": "ipython3",
   "version": "3.6.3"
  }
 },
 "nbformat": 4,
 "nbformat_minor": 2
}
